{
 "cells": [
  {
   "cell_type": "code",
   "execution_count": 1,
   "metadata": {
    "collapsed": false
   },
   "outputs": [
    {
     "name": "stderr",
     "output_type": "stream",
     "text": [
      "Using Theano backend.\n"
     ]
    }
   ],
   "source": [
    "\n",
    "import pandas as pd\n",
    "from keras.models import Sequential\n",
    "from keras.layers.core import Dense\n",
    "from keras.layers.core import Dropout, Masking\n",
    "from keras.layers.wrappers import TimeDistributed\n",
    "from keras.layers.recurrent import LSTM, SimpleRNN\n",
    "from keras.layers.advanced_activations import PReLU\n",
    "import numpy as np\n",
    "\n",
    "from bokeh.plotting import figure, output_file, show\n",
    "from bokeh.io import output_notebook\n",
    "\n",
    "import matplotlib.pyplot as plt\n",
    "\n",
    "from normalize import normalize\n",
    "\n",
    "import plotly.plotly as py\n",
    "from plotly.graph_objs import *"
   ]
  },
  {
   "cell_type": "code",
   "execution_count": 2,
   "metadata": {
    "collapsed": false
   },
   "outputs": [],
   "source": [
    "loadHis = pd.read_csv('final.csv')"
   ]
  },
  {
   "cell_type": "code",
   "execution_count": 3,
   "metadata": {
    "collapsed": false
   },
   "outputs": [],
   "source": [
    "for i in range(0, loadHis.shape[0] - 1):\n",
    "    if((loadHis[i:i+1].isnull().sum()['h1'] < 1) and ((loadHis[i:i+1].isnull().sum()['h24'] == 1))):\n",
    "        info = [loadHis.loc[i, 'zone_id'], loadHis.loc[i, 'year'], loadHis.loc[i, 'month'], loadHis.loc[i, 'day']]\n",
    "        loadHis.loc[i] = loadHis.loc[i-7]\n",
    "        loadHis.loc[i, 'zone_id'] = info[0]\n",
    "        loadHis.loc[i, 'year'] = info[1]\n",
    "        loadHis.loc[i, 'month'] = info[2]\n",
    "        loadHis.loc[i, 'day'] = info[3]"
   ]
  },
  {
   "cell_type": "code",
   "execution_count": 3,
   "metadata": {
    "collapsed": true
   },
   "outputs": [],
   "source": [
    "loadHis.dropna()\n",
    "loadHis.to_csv('final.csv', index=None)"
   ]
  },
  {
   "cell_type": "code",
   "execution_count": 4,
   "metadata": {
    "collapsed": false
   },
   "outputs": [],
   "source": [
    "res = loadHis.sort_values([u'year', u'month', u'day', u'zone_id'], ascending=[1, 1, 1, 1])\n",
    "trainRes = res[[u'h1', u'h2', u'h3', u'h4',\n",
    "       u'h5', u'h6', u'h7', u'h8', u'h9', u'h10', u'h11', u'h12', u'h13',\n",
    "       u'h14', u'h15', u'h16', u'h17', u'h18', u'h19', u'h20', u'h21', u'h22',\n",
    "       u'h23', u'h24']]"
   ]
  },
  {
   "cell_type": "code",
   "execution_count": 5,
   "metadata": {
    "collapsed": true
   },
   "outputs": [],
   "source": [
    "res = trainRes.dropna()"
   ]
  },
  {
   "cell_type": "code",
   "execution_count": 6,
   "metadata": {
    "collapsed": false
   },
   "outputs": [
    {
     "data": {
      "text/plain": [
       "(31740, 24)"
      ]
     },
     "execution_count": 6,
     "metadata": {},
     "output_type": "execute_result"
    }
   ],
   "source": [
    "res.shape"
   ]
  },
  {
   "cell_type": "code",
   "execution_count": 7,
   "metadata": {
    "collapsed": false
   },
   "outputs": [
    {
     "data": {
      "text/plain": [
       "(1587, 24, 20)"
      ]
     },
     "execution_count": 7,
     "metadata": {},
     "output_type": "execute_result"
    }
   ],
   "source": [
    "batch_size1 = 1587\n",
    "tsteps1 = res.shape[0] * 24 / batch_size1 / 20\n",
    "\n",
    "#trainBuffer = res.as_matrix().T\n",
    "rawData = res.as_matrix().T\n",
    "reshapedData = np.reshape(rawData, (batch_size1, tsteps1, 20))\n",
    "reshapedData.shape"
   ]
  },
  {
   "cell_type": "code",
   "execution_count": 8,
   "metadata": {
    "collapsed": false
   },
   "outputs": [
    {
     "data": {
      "text/plain": [
       "(226, 168, 20)"
      ]
     },
     "execution_count": 8,
     "metadata": {},
     "output_type": "execute_result"
    }
   ],
   "source": [
    "usedData = reshapedData[0:1582, :, :]\n",
    "batch_size1 = 226\n",
    "tsteps1 = usedData.shape[0] / batch_size1 * 24\n",
    "\n",
    "usedData = np.reshape(usedData, (batch_size1, tsteps1, 20))\n",
    "usedData.shape"
   ]
  },
  {
   "cell_type": "code",
   "execution_count": 9,
   "metadata": {
    "collapsed": false
   },
   "outputs": [],
   "source": [
    "train = usedData[0:224, :, :]\n",
    "test = usedData[224:225, :, :]\n",
    "\n",
    "\n",
    "train_Y = usedData[1:225, :, :]\n",
    "test_Y = usedData[225:226, :, :]\n"
   ]
  },
  {
   "cell_type": "code",
   "execution_count": 10,
   "metadata": {
    "collapsed": false
   },
   "outputs": [],
   "source": [
    "train_Y = train"
   ]
  },
  {
   "cell_type": "code",
   "execution_count": 11,
   "metadata": {
    "collapsed": false
   },
   "outputs": [
    {
     "data": {
      "text/plain": [
       "168"
      ]
     },
     "execution_count": 11,
     "metadata": {},
     "output_type": "execute_result"
    }
   ],
   "source": [
    "tsteps1"
   ]
  },
  {
   "cell_type": "code",
   "execution_count": 12,
   "metadata": {
    "collapsed": false
   },
   "outputs": [],
   "source": [
    "ts = Sequential()\n",
    "ts.add(Masking(mask_value=0., input_shape=(tsteps1, 20)))\n",
    "ts.add(TimeDistributed(Dense(output_dim=200), input_shape=(tsteps1, 20)))\n",
    "ts.add(PReLU())\n",
    "#ts.add(Dropout(0.4))\n",
    "#ts.add(LSTM(100, batch_input_shape=(60, 24, 20), activation='relu', \n",
    "#            inner_activation='relu', return_sequences=True, stateful=True))\n",
    "ts.add(LSTM(output_dim=500,\n",
    "           input_shape=(tsteps1, 200),\n",
    "           dropout_W = 0.4,\n",
    "           return_sequences=True))\n",
    "ts.add(LSTM(output_dim=100,\n",
    "           input_shape=(tsteps1, 500),\n",
    "           dropout_W = 0.4,\n",
    "           return_sequences=True))\n",
    "#ts.add(Dropout(0.4))\n",
    "ts.add(TimeDistributed(Dense(output_dim=1), input_shape=(tsteps1, 100)))\n",
    "ts.add(PReLU())\n",
    "\n",
    "ts.compile(loss='mse', optimizer='rmsprop')"
   ]
  },
  {
   "cell_type": "code",
   "execution_count": 13,
   "metadata": {
    "collapsed": false
   },
   "outputs": [
    {
     "data": {
      "text/plain": [
       "array([-0.8988923 ,  0.63161272,  0.76761441, -1.08423014, -1.01511193,\n",
       "        0.70632439,  0.76761441, -1.05224297, -0.0515429 , -0.78901985,\n",
       "       -0.01759867,  0.29449778, -0.87039607, -0.84937102, -0.3197512 ,\n",
       "       -0.76501955, -0.71448008,  1.07837531, -0.19784555, -0.18279742])"
      ]
     },
     "execution_count": 13,
     "metadata": {},
     "output_type": "execute_result"
    }
   ],
   "source": [
    "train_norm = normalize(train)\n",
    "train_norm.normedData[0, 2, :]"
   ]
  },
  {
   "cell_type": "code",
   "execution_count": 14,
   "metadata": {
    "collapsed": false
   },
   "outputs": [
    {
     "data": {
      "text/plain": [
       "array([-0.90264771,  0.54261988,  0.6716    , -1.08372766, -1.01176643,\n",
       "        0.62069027,  0.6716    , -1.05011401, -0.0776457 , -0.81789955,\n",
       "        0.05879236,  0.41796378, -0.85052145, -0.82839886, -0.33553982,\n",
       "       -0.74845075, -0.72939597,  1.22627798, -0.2103019 , -0.14356388])"
      ]
     },
     "execution_count": 14,
     "metadata": {},
     "output_type": "execute_result"
    }
   ],
   "source": [
    "trainLabel_norm = normalize(train_Y)\n",
    "trainLabel_norm.normedData[0, 1, :]"
   ]
  },
  {
   "cell_type": "code",
   "execution_count": 15,
   "metadata": {
    "collapsed": false
   },
   "outputs": [
    {
     "name": "stderr",
     "output_type": "stream",
     "text": [
      "/Users/king/anaconda/lib/python2.7/site-packages/Keras-1.0.0-py2.7.egg/keras/backend/theano_backend.py:484: UserWarning:\n",
      "\n",
      "theano.function was asked to create a function computing outputs given certain inputs, but the provided input variable at index 3 is not part of the computational graph needed to compute the outputs: keras_learning_phase.\n",
      "To make this warning into an error, you can pass the parameter on_unused_input='raise' to theano.function. To disable it completely, use on_unused_input='ignore'.\n",
      "\n"
     ]
    },
    {
     "name": "stdout",
     "output_type": "stream",
     "text": [
      "Epoch 1/40\n",
      "224/224 [==============================] - 12s - loss: 1.7165    \n",
      "Epoch 2/40\n",
      "224/224 [==============================] - 12s - loss: 1.5922    \n",
      "Epoch 3/40\n",
      "224/224 [==============================] - 12s - loss: 1.3624    \n",
      "Epoch 4/40\n",
      "224/224 [==============================] - 13s - loss: 1.0599    \n",
      "Epoch 5/40\n",
      "224/224 [==============================] - 13s - loss: 0.7670    \n",
      "Epoch 6/40\n",
      "224/224 [==============================] - 13s - loss: 0.5595    \n",
      "Epoch 7/40\n",
      "224/224 [==============================] - 13s - loss: 0.4306    \n",
      "Epoch 8/40\n",
      "224/224 [==============================] - 11s - loss: 0.3457    \n",
      "Epoch 9/40\n",
      "224/224 [==============================] - 13s - loss: 0.2874    \n",
      "Epoch 10/40\n",
      "224/224 [==============================] - 13s - loss: 0.2515    \n",
      "Epoch 11/40\n",
      "224/224 [==============================] - 13s - loss: 0.2308    \n",
      "Epoch 12/40\n",
      "224/224 [==============================] - 13s - loss: 0.2173    \n",
      "Epoch 13/40\n",
      "224/224 [==============================] - 13s - loss: 0.1979    \n",
      "Epoch 14/40\n",
      "224/224 [==============================] - 13s - loss: 0.1743    \n",
      "Epoch 15/40\n",
      "224/224 [==============================] - 12s - loss: 0.1420    \n",
      "Epoch 16/40\n",
      "224/224 [==============================] - 12s - loss: 0.1335    \n",
      "Epoch 17/40\n",
      "224/224 [==============================] - 12s - loss: 0.1077    \n",
      "Epoch 18/40\n",
      "224/224 [==============================] - 12s - loss: 0.0894    \n",
      "Epoch 19/40\n",
      "224/224 [==============================] - 12s - loss: 0.0985    \n",
      "Epoch 20/40\n",
      "224/224 [==============================] - 12s - loss: 0.0782    \n",
      "Epoch 21/40\n",
      "224/224 [==============================] - 12s - loss: 0.0809    \n",
      "Epoch 22/40\n",
      "224/224 [==============================] - 12s - loss: 0.0715    \n",
      "Epoch 23/40\n",
      "224/224 [==============================] - 12s - loss: 0.0657    \n",
      "Epoch 24/40\n",
      "224/224 [==============================] - 12s - loss: 0.0628    \n",
      "Epoch 25/40\n",
      "224/224 [==============================] - 12s - loss: 0.0585    \n",
      "Epoch 26/40\n",
      "224/224 [==============================] - 12s - loss: 0.0513    \n",
      "Epoch 27/40\n",
      "224/224 [==============================] - 12s - loss: 0.0487    \n",
      "Epoch 28/40\n",
      "224/224 [==============================] - 12s - loss: 0.0500    \n",
      "Epoch 29/40\n",
      "224/224 [==============================] - 12s - loss: 0.0352    \n",
      "Epoch 30/40\n",
      "224/224 [==============================] - 12s - loss: 0.0392    \n",
      "Epoch 31/40\n",
      "224/224 [==============================] - 12s - loss: 0.0331    \n",
      "Epoch 32/40\n",
      "224/224 [==============================] - 12s - loss: 0.0282    \n",
      "Epoch 33/40\n",
      "224/224 [==============================] - 12s - loss: 0.0338    \n",
      "Epoch 34/40\n",
      "224/224 [==============================] - 12s - loss: 0.0214    \n",
      "Epoch 35/40\n",
      "224/224 [==============================] - 12s - loss: 0.0262    \n",
      "Epoch 36/40\n",
      "224/224 [==============================] - 12s - loss: 0.0230    \n",
      "Epoch 37/40\n",
      "224/224 [==============================] - 12s - loss: 0.0206    \n",
      "Epoch 38/40\n",
      "224/224 [==============================] - 12s - loss: 0.0228    \n",
      "Epoch 39/40\n",
      "224/224 [==============================] - 12s - loss: 0.0175    \n",
      "Epoch 40/40\n",
      "224/224 [==============================] - 12s - loss: 0.0187    \n"
     ]
    },
    {
     "data": {
      "text/plain": [
       "<keras.callbacks.History at 0x123e2ff50>"
      ]
     },
     "execution_count": 15,
     "metadata": {},
     "output_type": "execute_result"
    }
   ],
   "source": [
    "epochs1 = 40\n",
    "\n",
    "ts.fit(train_norm.normedData,\n",
    "        trainLabel_norm.normedData[:, :, 1:2],\n",
    "          verbose=1,\n",
    "          nb_epoch=epochs1)"
   ]
  },
  {
   "cell_type": "code",
   "execution_count": 16,
   "metadata": {
    "collapsed": false,
    "scrolled": true
   },
   "outputs": [
    {
     "name": "stderr",
     "output_type": "stream",
     "text": [
      "/Users/king/anaconda/lib/python2.7/site-packages/Keras-1.0.0-py2.7.egg/keras/backend/theano_backend.py:484: UserWarning:\n",
      "\n",
      "theano.function was asked to create a function computing outputs given certain inputs, but the provided input variable at index 1 is not part of the computational graph needed to compute the outputs: keras_learning_phase.\n",
      "To make this warning into an error, you can pass the parameter on_unused_input='raise' to theano.function. To disable it completely, use on_unused_input='ignore'.\n",
      "\n"
     ]
    }
   ],
   "source": [
    "y = ts.predict(train_norm.normedData, batch_size=batch_size1)"
   ]
  },
  {
   "cell_type": "code",
   "execution_count": 51,
   "metadata": {
    "collapsed": true
   },
   "outputs": [
    {
     "data": {
      "text/plain": [
       "array([-0.90280165, -0.89904355, -0.94093847, -0.9478592 , -0.88180126,\n",
       "       -0.74587434, -0.75791615, -0.80990767, -0.78039861, -0.68778252,\n",
       "       -0.78659154, -0.861661  , -0.85479319, -0.86331509, -0.78997913,\n",
       "       -0.79512667, -0.85925263, -0.8354469 , -0.73916533, -0.75556072,\n",
       "       -0.77081809, -0.76880671, -0.81504198, -0.79807758, -0.69417394,\n",
       "       -0.76193891, -0.76926986, -0.77666697, -0.82947892, -0.71911769,\n",
       "       -0.75275537, -0.78324365, -0.82876435, -0.84240733, -0.81115155,\n",
       "       -0.80023452, -0.83503668, -0.78813978, -0.80330452, -0.83474556,\n",
       "       -0.85286121, -0.84640362, -0.810609  , -0.86417522, -0.8516438 ,\n",
       "       -0.79950672, -0.76557792, -0.77338525, -0.84959272, -0.88259522,\n",
       "       -0.92291545, -0.85652668, -0.8423544 , -0.86155513, -0.87024906,\n",
       "       -0.83096099, -0.83683634, -0.82799685, -0.86659682, -0.9177282 ,\n",
       "       -0.9370745 , -0.93000821, -0.95286119, -0.95757205, -0.95284795,\n",
       "       -0.94877226, -0.92683234, -0.86585578, -0.86565729, -0.82977004,\n",
       "       -0.91449941, -0.8786254 , -0.87719626, -0.94512002, -0.94759455,\n",
       "       -0.88455367, -0.85140561, -0.91660342, -0.89349902, -0.9503205 ,\n",
       "       -0.84901048, -0.80573935, -0.85823371, -0.91037079, -0.9563414 ,\n",
       "       -0.95574593, -0.95251713, -0.94477597, -0.93526161, -0.90134605,\n",
       "       -0.90359562, -0.8884441 , -0.87988251, -0.9039926 , -0.86543233,\n",
       "       -0.87472173, -0.94202355, -0.95573269, -0.95388011, -0.94926187,\n",
       "       -0.94157364, -0.91193226, -0.90030066, -0.92385497, -0.88697527,\n",
       "       -0.93704804, -0.94886489, -0.94235437, -0.93456028, -0.9386889 ,\n",
       "       -0.94734312, -0.95725446, -0.94522588, -0.93863597, -0.94408787,\n",
       "       -0.94637713, -0.95398597, -0.92351092, -0.95221278, -0.95657959,\n",
       "       -0.95152468, -0.94695937, -0.95606351, -0.91813842, -0.94605955,\n",
       "       -0.95470054, -0.93768321, -0.91502872, -0.93682308, -0.94215588,\n",
       "       -0.92458278, -0.93065661, -0.93025963, -0.92728226, -0.92153924,\n",
       "       -0.92957153, -0.93665105, -0.94198386, -0.91993808, -0.92815562,\n",
       "       -0.92130105, -0.92421226, -0.90842557, -0.91701364, -0.89705863,\n",
       "       -0.89609264, -0.92759984, -0.8992685 , -0.91641816, -0.9216848 ,\n",
       "       -0.9331973 , -0.92667355, -0.93826545, -0.92945243, -0.91217045,\n",
       "       -0.94404817, -0.93434855, -0.93424269, -0.91793993, -0.91766204,\n",
       "       -0.89287708, -0.90211355, -0.89113036, -0.92553553, -0.92183036,\n",
       "       -0.89959932, -0.89827605, -0.88132488, -0.85276858, -0.86335479,\n",
       "       -0.89801139, -0.92957153, -0.92352415, -0.88041182, -0.91476407,\n",
       "       -0.89830251, -0.91947493, -0.92830118, -0.92730872, -0.91494933,\n",
       "       -0.91494933, -0.90126665, -0.87596561, -0.86567052, -0.85987457,\n",
       "       -0.87525104, -0.85605031, -0.84682707, -0.88215854, -0.87698453,\n",
       "       -0.84907664, -0.90785657, -0.85421095, -0.87181052, -0.85967608,\n",
       "       -0.87294854, -0.90677148, -0.90122695, -0.91578299, -0.90563346,\n",
       "       -0.90186212, -0.9017695 , -0.88709436, -0.90192829, -0.87918117,\n",
       "       -0.89912294, -0.90994734, -0.89527221, -0.8978526 , -0.90248406,\n",
       "       -0.89335346, -0.86958742, -0.84387617, -0.85480643, -0.87743445,\n",
       "       -0.87178406, -0.84842824, -0.91874713, -0.93538071, -0.93368691,\n",
       "       -0.92294191, -0.90653329, -0.89819665, -0.90335743, -0.91876036,\n",
       "       -0.91524045, -0.94170597, -0.92916131, -0.91230277, -0.91308351,\n",
       "       -0.88987324, -0.86438694, -0.8577441 , -0.90499829, -0.92384174,\n",
       "       -0.90534234, -0.90542174, -0.92400053, -0.91722536, -0.88989971])"
      ]
     },
     "execution_count": 51,
     "metadata": {},
     "output_type": "execute_result"
    }
   ],
   "source": [
    "trainLabel_norm.normedData[0, :, 0]"
   ]
  },
  {
   "cell_type": "code",
   "execution_count": 20,
   "metadata": {
    "collapsed": false
   },
   "outputs": [],
   "source": [
    "yprint0 = y[4, :, 0:1].flatten()\n",
    "yprint1 = trainLabel_norm.normedData[4,:, 1:2].flatten()\n",
    "\n",
    "plt.plot(yprint0, 'b', yprint1, 'g')\n",
    "#plt.plot(yprint0, 'b')\n",
    "#plt.plot(yprint1, 'r')\n",
    "plt.show()"
   ]
  },
  {
   "cell_type": "code",
   "execution_count": null,
   "metadata": {
    "collapsed": false
   },
   "outputs": [],
   "source": [
    "#yprint0 = y[50, :, 11:12].flatten()\n",
    "yprint1 = trainLabel_norm.normedData[57, :, 11:12].flatten()\n",
    "trainprint1 = train_norm.normedData[50, :, 11:12].flatten()\n",
    "\n",
    "plt.plot(yprint1, 'r', trainprint1, 'g')\n",
    "plt.show()"
   ]
  },
  {
   "cell_type": "code",
   "execution_count": 57,
   "metadata": {
    "collapsed": true
   },
   "outputs": [
    {
     "name": "stdout",
     "output_type": "stream",
     "text": [
      "The draw time for this plot will be slow for all clients.\n"
     ]
    },
    {
     "data": {
      "text/html": [
       "<iframe id=\"igraph\" scrolling=\"no\" style=\"border:none;\" seamless=\"seamless\" src=\"https://plot.ly/~xiongxbox360/2.embed\" height=\"525px\" width=\"100%\"></iframe>"
      ],
      "text/plain": [
       "<plotly.tools.PlotlyDisplay object>"
      ]
     },
     "execution_count": 57,
     "metadata": {},
     "output_type": "execute_result"
    }
   ],
   "source": [
    "trace0 = Scatter(\n",
    "  y= np.reshape(trainLabel_norm.normedData[:,:, 0:1], (1580 * 24))\n",
    ")\n",
    "trace1 = Scatter(\n",
    "  y=np.reshape(y[:, :, 0:1], (1580 * 24))\n",
    ")\n",
    "data = Data([trace0, trace1])\n",
    "\n",
    "py.iplot(data, filename = 'basic-line')"
   ]
  },
  {
   "cell_type": "code",
   "execution_count": null,
   "metadata": {
    "collapsed": false
   },
   "outputs": [],
   "source": [
    "test1 =  train_norm.cal(test)\n",
    "test_Y1 = trainLabel_norm.cal(test_Y)\n",
    "\n",
    "\n",
    "y = ts.predict(test1)\n",
    "\n",
    "ypred = y[:,:, 11:12].flatten()\n",
    "ystandard = test_Y1[:,:, 11:12].flatten()\n",
    "\n",
    "\n",
    "plt.plot(ypred, 'b', ystandard, 'g')\n",
    "plt.show()"
   ]
  },
  {
   "cell_type": "markdown",
   "metadata": {
    "collapsed": false
   },
   "source": [
    "test1 = np.zeros(test.shape)\n",
    "test1.astype(float)\n",
    "\n",
    "test1[:, 0:24*6, :] =  train_norm.cal(test[:, 0:24*6, :])\n",
    "\n",
    "\n",
    "for i in range(24*6 + 1, 240):\n",
    "    y = ts.predict(test1)\n",
    "    test1[:, i, :] = y[:, i - 1, :]\n",
    "    "
   ]
  },
  {
   "cell_type": "code",
   "execution_count": 21,
   "metadata": {
    "collapsed": false
   },
   "outputs": [
    {
     "data": {
      "text/plain": [
       "(1, 240, 1)"
      ]
     },
     "execution_count": 21,
     "metadata": {},
     "output_type": "execute_result"
    }
   ],
   "source": [
    "y[:, :, 0:1].shape"
   ]
  },
  {
   "cell_type": "code",
   "execution_count": 22,
   "metadata": {
    "collapsed": false
   },
   "outputs": [],
   "source": [
    "plt.plot(y[:, :, 11:12].flatten(), 'r', test_Y1[:,:, 11:12].flatten(), 'b')\n",
    "plt.show()"
   ]
  },
  {
   "cell_type": "code",
   "execution_count": 40,
   "metadata": {
    "collapsed": false
   },
   "outputs": [
    {
     "data": {
      "text/plain": [
       "array([  1.19342692e+09,   1.20450108e+10,   1.29966308e+10, ...,\n",
       "         1.00515402e+10,   3.82577328e+09,   4.72301281e+09])"
      ]
     },
     "execution_count": 40,
     "metadata": {},
     "output_type": "execute_result"
    }
   ],
   "source": [
    "ypre = trainLabel_norm.recover(y).flatten()\n",
    "ypre"
   ]
  },
  {
   "cell_type": "code",
   "execution_count": 41,
   "metadata": {
    "collapsed": true
   },
   "outputs": [],
   "source": [
    "y = train_Y.flatten()"
   ]
  },
  {
   "cell_type": "code",
   "execution_count": 43,
   "metadata": {
    "collapsed": false
   },
   "outputs": [
    {
     "data": {
      "text/plain": [
       "7.160885216032238e+19"
      ]
     },
     "execution_count": 43,
     "metadata": {},
     "output_type": "execute_result"
    }
   ],
   "source": [
    "((y - ypre) ** 2).mean()"
   ]
  },
  {
   "cell_type": "code",
   "execution_count": 59,
   "metadata": {
    "collapsed": true
   },
   "outputs": [
    {
     "ename": "KeyboardInterrupt",
     "evalue": "",
     "output_type": "error",
     "traceback": [
      "\u001b[0;31m---------------------------------------------------------------------------\u001b[0m",
      "\u001b[0;31mKeyboardInterrupt\u001b[0m                         Traceback (most recent call last)",
      "\u001b[0;32m/Users/king/anaconda/lib/python2.7/site-packages/matplotlib/artist.pyc\u001b[0m in \u001b[0;36mdraw_wrapper\u001b[0;34m(artist, renderer, *args, **kwargs)\u001b[0m\n\u001b[1;32m     59\u001b[0m     \u001b[0;32mdef\u001b[0m \u001b[0mdraw_wrapper\u001b[0m\u001b[0;34m(\u001b[0m\u001b[0martist\u001b[0m\u001b[0;34m,\u001b[0m \u001b[0mrenderer\u001b[0m\u001b[0;34m,\u001b[0m \u001b[0;34m*\u001b[0m\u001b[0margs\u001b[0m\u001b[0;34m,\u001b[0m \u001b[0;34m**\u001b[0m\u001b[0mkwargs\u001b[0m\u001b[0;34m)\u001b[0m\u001b[0;34m:\u001b[0m\u001b[0;34m\u001b[0m\u001b[0m\n\u001b[1;32m     60\u001b[0m         \u001b[0mbefore\u001b[0m\u001b[0;34m(\u001b[0m\u001b[0martist\u001b[0m\u001b[0;34m,\u001b[0m \u001b[0mrenderer\u001b[0m\u001b[0;34m)\u001b[0m\u001b[0;34m\u001b[0m\u001b[0m\n\u001b[0;32m---> 61\u001b[0;31m         \u001b[0mdraw\u001b[0m\u001b[0;34m(\u001b[0m\u001b[0martist\u001b[0m\u001b[0;34m,\u001b[0m \u001b[0mrenderer\u001b[0m\u001b[0;34m,\u001b[0m \u001b[0;34m*\u001b[0m\u001b[0margs\u001b[0m\u001b[0;34m,\u001b[0m \u001b[0;34m**\u001b[0m\u001b[0mkwargs\u001b[0m\u001b[0;34m)\u001b[0m\u001b[0;34m\u001b[0m\u001b[0m\n\u001b[0m\u001b[1;32m     62\u001b[0m         \u001b[0mafter\u001b[0m\u001b[0;34m(\u001b[0m\u001b[0martist\u001b[0m\u001b[0;34m,\u001b[0m \u001b[0mrenderer\u001b[0m\u001b[0;34m)\u001b[0m\u001b[0;34m\u001b[0m\u001b[0m\n\u001b[1;32m     63\u001b[0m \u001b[0;34m\u001b[0m\u001b[0m\n",
      "\u001b[0;32m/Users/king/anaconda/lib/python2.7/site-packages/matplotlib/figure.pyc\u001b[0m in \u001b[0;36mdraw\u001b[0;34m(self, renderer)\u001b[0m\n\u001b[1;32m   1157\u001b[0m         \u001b[0mdsu\u001b[0m\u001b[0;34m.\u001b[0m\u001b[0msort\u001b[0m\u001b[0;34m(\u001b[0m\u001b[0mkey\u001b[0m\u001b[0;34m=\u001b[0m\u001b[0mitemgetter\u001b[0m\u001b[0;34m(\u001b[0m\u001b[0;36m0\u001b[0m\u001b[0;34m)\u001b[0m\u001b[0;34m)\u001b[0m\u001b[0;34m\u001b[0m\u001b[0m\n\u001b[1;32m   1158\u001b[0m         \u001b[0;32mfor\u001b[0m \u001b[0mzorder\u001b[0m\u001b[0;34m,\u001b[0m \u001b[0ma\u001b[0m\u001b[0;34m,\u001b[0m \u001b[0mfunc\u001b[0m\u001b[0;34m,\u001b[0m \u001b[0margs\u001b[0m \u001b[0;32min\u001b[0m \u001b[0mdsu\u001b[0m\u001b[0;34m:\u001b[0m\u001b[0;34m\u001b[0m\u001b[0m\n\u001b[0;32m-> 1159\u001b[0;31m             \u001b[0mfunc\u001b[0m\u001b[0;34m(\u001b[0m\u001b[0;34m*\u001b[0m\u001b[0margs\u001b[0m\u001b[0;34m)\u001b[0m\u001b[0;34m\u001b[0m\u001b[0m\n\u001b[0m\u001b[1;32m   1160\u001b[0m \u001b[0;34m\u001b[0m\u001b[0m\n\u001b[1;32m   1161\u001b[0m         \u001b[0mrenderer\u001b[0m\u001b[0;34m.\u001b[0m\u001b[0mclose_group\u001b[0m\u001b[0;34m(\u001b[0m\u001b[0;34m'figure'\u001b[0m\u001b[0;34m)\u001b[0m\u001b[0;34m\u001b[0m\u001b[0m\n",
      "\u001b[0;32m/Users/king/anaconda/lib/python2.7/site-packages/matplotlib/artist.pyc\u001b[0m in \u001b[0;36mdraw_wrapper\u001b[0;34m(artist, renderer, *args, **kwargs)\u001b[0m\n\u001b[1;32m     59\u001b[0m     \u001b[0;32mdef\u001b[0m \u001b[0mdraw_wrapper\u001b[0m\u001b[0;34m(\u001b[0m\u001b[0martist\u001b[0m\u001b[0;34m,\u001b[0m \u001b[0mrenderer\u001b[0m\u001b[0;34m,\u001b[0m \u001b[0;34m*\u001b[0m\u001b[0margs\u001b[0m\u001b[0;34m,\u001b[0m \u001b[0;34m**\u001b[0m\u001b[0mkwargs\u001b[0m\u001b[0;34m)\u001b[0m\u001b[0;34m:\u001b[0m\u001b[0;34m\u001b[0m\u001b[0m\n\u001b[1;32m     60\u001b[0m         \u001b[0mbefore\u001b[0m\u001b[0;34m(\u001b[0m\u001b[0martist\u001b[0m\u001b[0;34m,\u001b[0m \u001b[0mrenderer\u001b[0m\u001b[0;34m)\u001b[0m\u001b[0;34m\u001b[0m\u001b[0m\n\u001b[0;32m---> 61\u001b[0;31m         \u001b[0mdraw\u001b[0m\u001b[0;34m(\u001b[0m\u001b[0martist\u001b[0m\u001b[0;34m,\u001b[0m \u001b[0mrenderer\u001b[0m\u001b[0;34m,\u001b[0m \u001b[0;34m*\u001b[0m\u001b[0margs\u001b[0m\u001b[0;34m,\u001b[0m \u001b[0;34m**\u001b[0m\u001b[0mkwargs\u001b[0m\u001b[0;34m)\u001b[0m\u001b[0;34m\u001b[0m\u001b[0m\n\u001b[0m\u001b[1;32m     62\u001b[0m         \u001b[0mafter\u001b[0m\u001b[0;34m(\u001b[0m\u001b[0martist\u001b[0m\u001b[0;34m,\u001b[0m \u001b[0mrenderer\u001b[0m\u001b[0;34m)\u001b[0m\u001b[0;34m\u001b[0m\u001b[0m\n\u001b[1;32m     63\u001b[0m \u001b[0;34m\u001b[0m\u001b[0m\n",
      "\u001b[0;32m/Users/king/anaconda/lib/python2.7/site-packages/matplotlib/axes/_base.pyc\u001b[0m in \u001b[0;36mdraw\u001b[0;34m(self, renderer, inframe)\u001b[0m\n\u001b[1;32m   2322\u001b[0m \u001b[0;34m\u001b[0m\u001b[0m\n\u001b[1;32m   2323\u001b[0m         \u001b[0;32mfor\u001b[0m \u001b[0mzorder\u001b[0m\u001b[0;34m,\u001b[0m \u001b[0ma\u001b[0m \u001b[0;32min\u001b[0m \u001b[0mdsu\u001b[0m\u001b[0;34m:\u001b[0m\u001b[0;34m\u001b[0m\u001b[0m\n\u001b[0;32m-> 2324\u001b[0;31m             \u001b[0ma\u001b[0m\u001b[0;34m.\u001b[0m\u001b[0mdraw\u001b[0m\u001b[0;34m(\u001b[0m\u001b[0mrenderer\u001b[0m\u001b[0;34m)\u001b[0m\u001b[0;34m\u001b[0m\u001b[0m\n\u001b[0m\u001b[1;32m   2325\u001b[0m \u001b[0;34m\u001b[0m\u001b[0m\n\u001b[1;32m   2326\u001b[0m         \u001b[0mrenderer\u001b[0m\u001b[0;34m.\u001b[0m\u001b[0mclose_group\u001b[0m\u001b[0;34m(\u001b[0m\u001b[0;34m'axes'\u001b[0m\u001b[0;34m)\u001b[0m\u001b[0;34m\u001b[0m\u001b[0m\n",
      "\u001b[0;32m/Users/king/anaconda/lib/python2.7/site-packages/matplotlib/artist.pyc\u001b[0m in \u001b[0;36mdraw_wrapper\u001b[0;34m(artist, renderer, *args, **kwargs)\u001b[0m\n\u001b[1;32m     59\u001b[0m     \u001b[0;32mdef\u001b[0m \u001b[0mdraw_wrapper\u001b[0m\u001b[0;34m(\u001b[0m\u001b[0martist\u001b[0m\u001b[0;34m,\u001b[0m \u001b[0mrenderer\u001b[0m\u001b[0;34m,\u001b[0m \u001b[0;34m*\u001b[0m\u001b[0margs\u001b[0m\u001b[0;34m,\u001b[0m \u001b[0;34m**\u001b[0m\u001b[0mkwargs\u001b[0m\u001b[0;34m)\u001b[0m\u001b[0;34m:\u001b[0m\u001b[0;34m\u001b[0m\u001b[0m\n\u001b[1;32m     60\u001b[0m         \u001b[0mbefore\u001b[0m\u001b[0;34m(\u001b[0m\u001b[0martist\u001b[0m\u001b[0;34m,\u001b[0m \u001b[0mrenderer\u001b[0m\u001b[0;34m)\u001b[0m\u001b[0;34m\u001b[0m\u001b[0m\n\u001b[0;32m---> 61\u001b[0;31m         \u001b[0mdraw\u001b[0m\u001b[0;34m(\u001b[0m\u001b[0martist\u001b[0m\u001b[0;34m,\u001b[0m \u001b[0mrenderer\u001b[0m\u001b[0;34m,\u001b[0m \u001b[0;34m*\u001b[0m\u001b[0margs\u001b[0m\u001b[0;34m,\u001b[0m \u001b[0;34m**\u001b[0m\u001b[0mkwargs\u001b[0m\u001b[0;34m)\u001b[0m\u001b[0;34m\u001b[0m\u001b[0m\n\u001b[0m\u001b[1;32m     62\u001b[0m         \u001b[0mafter\u001b[0m\u001b[0;34m(\u001b[0m\u001b[0martist\u001b[0m\u001b[0;34m,\u001b[0m \u001b[0mrenderer\u001b[0m\u001b[0;34m)\u001b[0m\u001b[0;34m\u001b[0m\u001b[0m\n\u001b[1;32m     63\u001b[0m \u001b[0;34m\u001b[0m\u001b[0m\n",
      "\u001b[0;32m/Users/king/anaconda/lib/python2.7/site-packages/matplotlib/lines.pyc\u001b[0m in \u001b[0;36mdraw\u001b[0;34m(self, renderer)\u001b[0m\n\u001b[1;32m    756\u001b[0m                     \u001b[0mgc\u001b[0m\u001b[0;34m.\u001b[0m\u001b[0mset_sketch_params\u001b[0m\u001b[0;34m(\u001b[0m\u001b[0;34m*\u001b[0m\u001b[0mself\u001b[0m\u001b[0;34m.\u001b[0m\u001b[0mget_sketch_params\u001b[0m\u001b[0;34m(\u001b[0m\u001b[0;34m)\u001b[0m\u001b[0;34m)\u001b[0m\u001b[0;34m\u001b[0m\u001b[0m\n\u001b[1;32m    757\u001b[0m \u001b[0;34m\u001b[0m\u001b[0m\n\u001b[0;32m--> 758\u001b[0;31m                 \u001b[0mdrawFunc\u001b[0m\u001b[0;34m(\u001b[0m\u001b[0mrenderer\u001b[0m\u001b[0;34m,\u001b[0m \u001b[0mgc\u001b[0m\u001b[0;34m,\u001b[0m \u001b[0mtpath\u001b[0m\u001b[0;34m,\u001b[0m \u001b[0maffine\u001b[0m\u001b[0;34m.\u001b[0m\u001b[0mfrozen\u001b[0m\u001b[0;34m(\u001b[0m\u001b[0;34m)\u001b[0m\u001b[0;34m)\u001b[0m\u001b[0;34m\u001b[0m\u001b[0m\n\u001b[0m\u001b[1;32m    759\u001b[0m                 \u001b[0mgc\u001b[0m\u001b[0;34m.\u001b[0m\u001b[0mrestore\u001b[0m\u001b[0;34m(\u001b[0m\u001b[0;34m)\u001b[0m\u001b[0;34m\u001b[0m\u001b[0m\n\u001b[1;32m    760\u001b[0m \u001b[0;34m\u001b[0m\u001b[0m\n",
      "\u001b[0;32m/Users/king/anaconda/lib/python2.7/site-packages/matplotlib/lines.pyc\u001b[0m in \u001b[0;36m_draw_lines\u001b[0;34m(self, renderer, gc, path, trans)\u001b[0m\n\u001b[1;32m   1168\u001b[0m \u001b[0;34m\u001b[0m\u001b[0m\n\u001b[1;32m   1169\u001b[0m     \u001b[0;32mdef\u001b[0m \u001b[0m_draw_lines\u001b[0m\u001b[0;34m(\u001b[0m\u001b[0mself\u001b[0m\u001b[0;34m,\u001b[0m \u001b[0mrenderer\u001b[0m\u001b[0;34m,\u001b[0m \u001b[0mgc\u001b[0m\u001b[0;34m,\u001b[0m \u001b[0mpath\u001b[0m\u001b[0;34m,\u001b[0m \u001b[0mtrans\u001b[0m\u001b[0;34m)\u001b[0m\u001b[0;34m:\u001b[0m\u001b[0;34m\u001b[0m\u001b[0m\n\u001b[0;32m-> 1170\u001b[0;31m         \u001b[0mself\u001b[0m\u001b[0;34m.\u001b[0m\u001b[0m_lineFunc\u001b[0m\u001b[0;34m(\u001b[0m\u001b[0mrenderer\u001b[0m\u001b[0;34m,\u001b[0m \u001b[0mgc\u001b[0m\u001b[0;34m,\u001b[0m \u001b[0mpath\u001b[0m\u001b[0;34m,\u001b[0m \u001b[0mtrans\u001b[0m\u001b[0;34m)\u001b[0m\u001b[0;34m\u001b[0m\u001b[0m\n\u001b[0m\u001b[1;32m   1171\u001b[0m \u001b[0;34m\u001b[0m\u001b[0m\n\u001b[1;32m   1172\u001b[0m     \u001b[0;32mdef\u001b[0m \u001b[0m_draw_steps_pre\u001b[0m\u001b[0;34m(\u001b[0m\u001b[0mself\u001b[0m\u001b[0;34m,\u001b[0m \u001b[0mrenderer\u001b[0m\u001b[0;34m,\u001b[0m \u001b[0mgc\u001b[0m\u001b[0;34m,\u001b[0m \u001b[0mpath\u001b[0m\u001b[0;34m,\u001b[0m \u001b[0mtrans\u001b[0m\u001b[0;34m)\u001b[0m\u001b[0;34m:\u001b[0m\u001b[0;34m\u001b[0m\u001b[0m\n",
      "\u001b[0;32m/Users/king/anaconda/lib/python2.7/site-packages/matplotlib/lines.pyc\u001b[0m in \u001b[0;36m_draw_solid\u001b[0;34m(self, renderer, gc, path, trans)\u001b[0m\n\u001b[1;32m   1193\u001b[0m     \u001b[0;32mdef\u001b[0m \u001b[0m_draw_solid\u001b[0m\u001b[0;34m(\u001b[0m\u001b[0mself\u001b[0m\u001b[0;34m,\u001b[0m \u001b[0mrenderer\u001b[0m\u001b[0;34m,\u001b[0m \u001b[0mgc\u001b[0m\u001b[0;34m,\u001b[0m \u001b[0mpath\u001b[0m\u001b[0;34m,\u001b[0m \u001b[0mtrans\u001b[0m\u001b[0;34m)\u001b[0m\u001b[0;34m:\u001b[0m\u001b[0;34m\u001b[0m\u001b[0m\n\u001b[1;32m   1194\u001b[0m         \u001b[0mgc\u001b[0m\u001b[0;34m.\u001b[0m\u001b[0mset_linestyle\u001b[0m\u001b[0;34m(\u001b[0m\u001b[0;34m'solid'\u001b[0m\u001b[0;34m)\u001b[0m\u001b[0;34m\u001b[0m\u001b[0m\n\u001b[0;32m-> 1195\u001b[0;31m         \u001b[0mrenderer\u001b[0m\u001b[0;34m.\u001b[0m\u001b[0mdraw_path\u001b[0m\u001b[0;34m(\u001b[0m\u001b[0mgc\u001b[0m\u001b[0;34m,\u001b[0m \u001b[0mpath\u001b[0m\u001b[0;34m,\u001b[0m \u001b[0mtrans\u001b[0m\u001b[0;34m)\u001b[0m\u001b[0;34m\u001b[0m\u001b[0m\n\u001b[0m\u001b[1;32m   1196\u001b[0m \u001b[0;34m\u001b[0m\u001b[0m\n\u001b[1;32m   1197\u001b[0m     \u001b[0;32mdef\u001b[0m \u001b[0m_draw_dashed\u001b[0m\u001b[0;34m(\u001b[0m\u001b[0mself\u001b[0m\u001b[0;34m,\u001b[0m \u001b[0mrenderer\u001b[0m\u001b[0;34m,\u001b[0m \u001b[0mgc\u001b[0m\u001b[0;34m,\u001b[0m \u001b[0mpath\u001b[0m\u001b[0;34m,\u001b[0m \u001b[0mtrans\u001b[0m\u001b[0;34m)\u001b[0m\u001b[0;34m:\u001b[0m\u001b[0;34m\u001b[0m\u001b[0m\n",
      "\u001b[0;32m/Users/king/anaconda/lib/python2.7/site-packages/matplotlib/backends/backend_macosx.pyc\u001b[0m in \u001b[0;36mdraw_path\u001b[0;34m(self, gc, path, transform, rgbFace)\u001b[0m\n\u001b[1;32m     56\u001b[0m             \u001b[0mrgbFace\u001b[0m \u001b[0;34m=\u001b[0m \u001b[0mtuple\u001b[0m\u001b[0;34m(\u001b[0m\u001b[0mrgbFace\u001b[0m\u001b[0;34m)\u001b[0m\u001b[0;34m\u001b[0m\u001b[0m\n\u001b[1;32m     57\u001b[0m         \u001b[0mlinewidth\u001b[0m \u001b[0;34m=\u001b[0m \u001b[0mgc\u001b[0m\u001b[0;34m.\u001b[0m\u001b[0mget_linewidth\u001b[0m\u001b[0;34m(\u001b[0m\u001b[0;34m)\u001b[0m\u001b[0;34m\u001b[0m\u001b[0m\n\u001b[0;32m---> 58\u001b[0;31m         \u001b[0mgc\u001b[0m\u001b[0;34m.\u001b[0m\u001b[0mdraw_path\u001b[0m\u001b[0;34m(\u001b[0m\u001b[0mpath\u001b[0m\u001b[0;34m,\u001b[0m \u001b[0mtransform\u001b[0m\u001b[0;34m,\u001b[0m \u001b[0mlinewidth\u001b[0m\u001b[0;34m,\u001b[0m \u001b[0mrgbFace\u001b[0m\u001b[0;34m)\u001b[0m\u001b[0;34m\u001b[0m\u001b[0m\n\u001b[0m\u001b[1;32m     59\u001b[0m \u001b[0;34m\u001b[0m\u001b[0m\n\u001b[1;32m     60\u001b[0m     \u001b[0;32mdef\u001b[0m \u001b[0mdraw_markers\u001b[0m\u001b[0;34m(\u001b[0m\u001b[0mself\u001b[0m\u001b[0;34m,\u001b[0m \u001b[0mgc\u001b[0m\u001b[0;34m,\u001b[0m \u001b[0mmarker_path\u001b[0m\u001b[0;34m,\u001b[0m \u001b[0mmarker_trans\u001b[0m\u001b[0;34m,\u001b[0m \u001b[0mpath\u001b[0m\u001b[0;34m,\u001b[0m \u001b[0mtrans\u001b[0m\u001b[0;34m,\u001b[0m \u001b[0mrgbFace\u001b[0m\u001b[0;34m=\u001b[0m\u001b[0mNone\u001b[0m\u001b[0;34m)\u001b[0m\u001b[0;34m:\u001b[0m\u001b[0;34m\u001b[0m\u001b[0m\n",
      "\u001b[0;32m/Users/king/anaconda/lib/python2.7/site-packages/matplotlib/backend_bases.pyc\u001b[0m in \u001b[0;36mget_hatch_path\u001b[0;34m(self, density)\u001b[0m\n\u001b[1;32m   1104\u001b[0m         \u001b[0;32mreturn\u001b[0m \u001b[0mself\u001b[0m\u001b[0;34m.\u001b[0m\u001b[0m_hatch\u001b[0m\u001b[0;34m\u001b[0m\u001b[0m\n\u001b[1;32m   1105\u001b[0m \u001b[0;34m\u001b[0m\u001b[0m\n\u001b[0;32m-> 1106\u001b[0;31m     \u001b[0;32mdef\u001b[0m \u001b[0mget_hatch_path\u001b[0m\u001b[0;34m(\u001b[0m\u001b[0mself\u001b[0m\u001b[0;34m,\u001b[0m \u001b[0mdensity\u001b[0m\u001b[0;34m=\u001b[0m\u001b[0;36m6.0\u001b[0m\u001b[0;34m)\u001b[0m\u001b[0;34m:\u001b[0m\u001b[0;34m\u001b[0m\u001b[0m\n\u001b[0m\u001b[1;32m   1107\u001b[0m         \"\"\"\n\u001b[1;32m   1108\u001b[0m         \u001b[0mReturns\u001b[0m \u001b[0ma\u001b[0m \u001b[0mPath\u001b[0m \u001b[0;32mfor\u001b[0m \u001b[0mthe\u001b[0m \u001b[0mcurrent\u001b[0m \u001b[0mhatch\u001b[0m\u001b[0;34m.\u001b[0m\u001b[0;34m\u001b[0m\u001b[0m\n",
      "\u001b[0;31mKeyboardInterrupt\u001b[0m: "
     ]
    }
   ],
   "source": [
    "plt.plot(y, 'r', ypre, 'b')\n",
    "plt.show()"
   ]
  },
  {
   "cell_type": "raw",
   "metadata": {},
   "source": []
  }
 ],
 "metadata": {
  "kernelspec": {
   "display_name": "Python 2",
   "language": "python",
   "name": "python2"
  },
  "language_info": {
   "codemirror_mode": {
    "name": "ipython",
    "version": 2
   },
   "file_extension": ".py",
   "mimetype": "text/x-python",
   "name": "python",
   "nbconvert_exporter": "python",
   "pygments_lexer": "ipython2",
   "version": "2.7.11"
  }
 },
 "nbformat": 4,
 "nbformat_minor": 0
}
