{
 "cells": [
  {
   "cell_type": "code",
   "execution_count": 18,
   "metadata": {
    "collapsed": true
   },
   "outputs": [],
   "source": [
    "import pandas as pd\n",
    "import numpy as np\n",
    "import plotly\n",
    "import plotly.plotly as py\n",
    "import plotly.graph_objs as go\n",
    "from sklearn import cluster\n",
    "from sklearn.preprocessing import normalize\n",
    "from sklearn.preprocessing import StandardScaler\n",
    "from sklearn.neighbors import kneighbors_graph\n",
    "from statsmodels.tsa.stattools import acf\n",
    "from statsmodels.tsa.stattools import pacf\n",
    "from scipy.signal import periodogram"
   ]
  },
  {
   "cell_type": "markdown",
   "metadata": {},
   "source": [
    "Fourier Transform"
   ]
  },
  {
   "cell_type": "code",
   "execution_count": 23,
   "metadata": {
    "collapsed": false
   },
   "outputs": [],
   "source": [
    "load = pd.read_csv('Load_history.csv')"
   ]
  },
  {
   "cell_type": "code",
   "execution_count": 24,
   "metadata": {
    "collapsed": false
   },
   "outputs": [],
   "source": [
    "load2 = load.dropna()"
   ]
  },
  {
   "cell_type": "code",
   "execution_count": 26,
   "metadata": {
    "collapsed": false
   },
   "outputs": [],
   "source": [
    "hour = ['h1', 'h2', 'h3', 'h4','h5', 'h6', 'h7', 'h8','h9', 'h10', 'h11', 'h12','h13', 'h14', 'h15', 'h16','h17', 'h18', 'h19', 'h20','h21', 'h22', 'h23', 'h24']"
   ]
  },
  {
   "cell_type": "code",
   "execution_count": 27,
   "metadata": {
    "collapsed": false
   },
   "outputs": [],
   "source": [
    "load = load2[hour]"
   ]
  },
  {
   "cell_type": "code",
   "execution_count": 28,
   "metadata": {
    "collapsed": false
   },
   "outputs": [],
   "source": [
    "da1 = np.array(load[0:1])\n",
    "da2 = np.array(load2[0:1])\n",
    "da1 = normalize(da1)"
   ]
  },
  {
   "cell_type": "code",
   "execution_count": 29,
   "metadata": {
    "collapsed": false
   },
   "outputs": [],
   "source": [
    "fr, pe = periodogram(da1)\n",
    "pe = normalize(pe)\n",
    "a = np.concatenate((da2[0], pe[0]))\n",
    "data = [a]\n",
    "for i in range(len(load)):\n",
    "    da1 = np.array(load[i+1 : i+2])\n",
    "    da2 = np.array(load2[i+1 : i+2])\n",
    "    da1 = normalize(da1)\n",
    "    fr, pe = periodogram(da1)\n",
    "    pe = normalize(pe)\n",
    "    da = np.concatenate((da2[0], pe[0]))\n",
    "    data = np.concatenate((data, [da]))"
   ]
  },
  {
   "cell_type": "code",
   "execution_count": 30,
   "metadata": {
    "collapsed": false
   },
   "outputs": [],
   "source": [
    "data = pd.DataFrame(data)"
   ]
  },
  {
   "cell_type": "code",
   "execution_count": 31,
   "metadata": {
    "collapsed": true
   },
   "outputs": [],
   "source": [
    "data = data.rename(columns = {0 : 'zone_id', 1 : 'year', 2:'month', 3 : 'day'})"
   ]
  },
  {
   "cell_type": "code",
   "execution_count": 32,
   "metadata": {
    "collapsed": true
   },
   "outputs": [],
   "source": [
    "d = {}\n",
    "for i in range(4, 28):\n",
    "    d[i] = i - 3\n",
    "d1 = {28 : 'f1', 29:'f2', 30:'f3', 31:'f4', 32:'f5', 33:'f6', 34:'f7', 35:'f8', 36:'f9', 37:'f10', 38:'f11', 39:'f12', 40:'f13'}"
   ]
  },
  {
   "cell_type": "code",
   "execution_count": 33,
   "metadata": {
    "collapsed": true
   },
   "outputs": [],
   "source": [
    "data = data.rename(columns = d)\n",
    "data = data.rename(columns = d1)"
   ]
  },
  {
   "cell_type": "code",
   "execution_count": 34,
   "metadata": {
    "collapsed": false
   },
   "outputs": [],
   "source": [
    "data = data.rename(columns = {'h13':13,'h14':14,'h15':15,'h16':16,'h17':17,'h18':18,'h19':19, 'h20':20,'h21':21,'h22':22,'h23':23,'h24':24})"
   ]
  },
  {
   "cell_type": "code",
   "execution_count": 35,
   "metadata": {
    "collapsed": true
   },
   "outputs": [],
   "source": [
    "aa = pd.melt(data, id_vars=[u'zone_id', u'year', u'month', u'day', u'f1', u'f2', u'f3', u'f4', u'f5', u'f6', u'f7', u'f8',\n",
    "       u'f9', u'f10', u'f11', u'f12', u'f13'],\n",
    "             value_vars=[1,          2,\n",
    "                3,          4,          5,          6,          7,          8,\n",
    "                9,         10,         11,         12,         13,         14,\n",
    "               15,         16,         17,         18,         19,         20,\n",
    "               21,         22,         23,         24], var_name='hours', value_name='load')\n",
    "res = aa.sort_values([u'zone_id', u'year', u'month', u'day'], ascending=[1, 1, 1, 1])"
   ]
  },
  {
   "cell_type": "code",
   "execution_count": null,
   "metadata": {
    "collapsed": true
   },
   "outputs": [],
   "source": [
    "res.to_csv('fredata.csv', index = False)"
   ]
  },
  {
   "cell_type": "markdown",
   "metadata": {},
   "source": [
    "Time Series Clustering"
   ]
  },
  {
   "cell_type": "code",
   "execution_count": 36,
   "metadata": {
    "collapsed": false
   },
   "outputs": [],
   "source": [
    "load = pd.read_csv('res.csv')\n",
    "loaddata = load[['zone_id', 'load']]\n",
    "loaddata1 = np.array(loaddata[loaddata['zone_id'] == 1].drop('zone_id', axis = 1))\n",
    "loaddata1 = loaddata1[~np.isnan(loaddata1)]\n",
    "data = [loaddata1.reshape(loaddata1.shape[0],)]"
   ]
  },
  {
   "cell_type": "code",
   "execution_count": 37,
   "metadata": {
    "collapsed": false
   },
   "outputs": [],
   "source": [
    "for i in range(19):\n",
    "    i = i+2\n",
    "    d = np.array(loaddata[loaddata['zone_id'] == i].drop('zone_id', axis = 1))\n",
    "    d = d[~np.isnan(d)]\n",
    "    da = [d.reshape(d.shape[0],)]\n",
    "    data = np.concatenate((data, da), axis = 0)"
   ]
  },
  {
   "cell_type": "code",
   "execution_count": 38,
   "metadata": {
    "collapsed": false
   },
   "outputs": [],
   "source": [
    "X = StandardScaler().fit_transform(data)\n",
    "ncluster = 3"
   ]
  },
  {
   "cell_type": "code",
   "execution_count": 40,
   "metadata": {
    "collapsed": false
   },
   "outputs": [],
   "source": [
    "spectral = cluster.SpectralClustering(n_clusters=ncluster,\n",
    "                                          eigen_solver='arpack',\n",
    "                                          affinity='rbf')\n",
    "two_means = cluster.MiniBatchKMeans(n_clusters=ncluster)\n",
    "ward = cluster.AgglomerativeClustering(n_clusters=ncluster, linkage='ward',\n",
    "                                           connectivity=connectivity)\n",
    "birch = cluster.Birch(n_clusters=ncluster)\n",
    "affinity_propagation = cluster.AffinityPropagation(damping=.9,\n",
    "                                                       preference=-200)"
   ]
  },
  {
   "cell_type": "code",
   "execution_count": 41,
   "metadata": {
    "collapsed": true
   },
   "outputs": [],
   "source": [
    "clustering_algorithms = [two_means, affinity_propagation, spectral, ward, birch]"
   ]
  },
  {
   "cell_type": "code",
   "execution_count": 53,
   "metadata": {
    "collapsed": false
   },
   "outputs": [],
   "source": [
    "data_acf = [acf(data[0])]\n",
    "for i in range(19):\n",
    "    i = i + 1\n",
    "    datai = [acf(data[i])]\n",
    "    data_acf = np.concatenate((data_acf, datai), axis = 0)"
   ]
  },
  {
   "cell_type": "code",
   "execution_count": 54,
   "metadata": {
    "collapsed": true
   },
   "outputs": [],
   "source": [
    "X_acf = data_acf"
   ]
  },
  {
   "cell_type": "code",
   "execution_count": 55,
   "metadata": {
    "collapsed": false
   },
   "outputs": [],
   "source": [
    "bandwidth = cluster.estimate_bandwidth(X_acf, quantile=0.3)\n",
    " # connectivity matrix for structured Ward\n",
    "connectivity = kneighbors_graph(X_acf, n_neighbors=10, include_self=False)\n",
    "# make connectivity symmetric\n",
    "connectivity = 0.5 * (connectivity + connectivity.T)"
   ]
  },
  {
   "cell_type": "code",
   "execution_count": 56,
   "metadata": {
    "collapsed": false
   },
   "outputs": [
    {
     "name": "stdout",
     "output_type": "stream",
     "text": [
      "[1 1 1 2 1 1 1 1 1 0 1 1 2 1 1 2 1 1 1 1]\n",
      "[0 0 0 0 0 0 0 0 0 0 0 0 0 0 0 0 0 0 0 0]\n",
      "[1 1 1 2 1 1 1 0 0 0 0 1 2 0 0 2 0 0 0 0]\n",
      "[0 0 0 0 0 0 0 0 2 1 0 0 0 0 0 0 0 0 0 0]\n",
      "[2 2 2 2 2 2 2 2 1 0 2 2 2 2 2 2 2 2 2 2]\n"
     ]
    },
    {
     "name": "stderr",
     "output_type": "stream",
     "text": [
      "/Users/tianyucui/anaconda/lib/python2.7/site-packages/sklearn/cluster/k_means_.py:1279: DeprecationWarning:\n",
      "\n",
      "This function is deprecated. Please call randint(0, 19 + 1) instead\n",
      "\n",
      "/Users/tianyucui/anaconda/lib/python2.7/site-packages/sklearn/cluster/k_means_.py:1328: DeprecationWarning:\n",
      "\n",
      "This function is deprecated. Please call randint(0, 19 + 1) instead\n",
      "\n",
      "/Users/tianyucui/anaconda/lib/python2.7/site-packages/sklearn/cluster/k_means_.py:1328: DeprecationWarning:\n",
      "\n",
      "This function is deprecated. Please call randint(0, 19 + 1) instead\n",
      "\n",
      "/Users/tianyucui/anaconda/lib/python2.7/site-packages/sklearn/cluster/k_means_.py:1328: DeprecationWarning:\n",
      "\n",
      "This function is deprecated. Please call randint(0, 19 + 1) instead\n",
      "\n",
      "/Users/tianyucui/anaconda/lib/python2.7/site-packages/sklearn/cluster/k_means_.py:1328: DeprecationWarning:\n",
      "\n",
      "This function is deprecated. Please call randint(0, 19 + 1) instead\n",
      "\n",
      "/Users/tianyucui/anaconda/lib/python2.7/site-packages/sklearn/cluster/k_means_.py:1328: DeprecationWarning:\n",
      "\n",
      "This function is deprecated. Please call randint(0, 19 + 1) instead\n",
      "\n",
      "/Users/tianyucui/anaconda/lib/python2.7/site-packages/sklearn/cluster/k_means_.py:1328: DeprecationWarning:\n",
      "\n",
      "This function is deprecated. Please call randint(0, 19 + 1) instead\n",
      "\n",
      "/Users/tianyucui/anaconda/lib/python2.7/site-packages/sklearn/cluster/k_means_.py:1328: DeprecationWarning:\n",
      "\n",
      "This function is deprecated. Please call randint(0, 19 + 1) instead\n",
      "\n",
      "/Users/tianyucui/anaconda/lib/python2.7/site-packages/sklearn/cluster/k_means_.py:1328: DeprecationWarning:\n",
      "\n",
      "This function is deprecated. Please call randint(0, 19 + 1) instead\n",
      "\n",
      "/Users/tianyucui/anaconda/lib/python2.7/site-packages/sklearn/cluster/k_means_.py:1328: DeprecationWarning:\n",
      "\n",
      "This function is deprecated. Please call randint(0, 19 + 1) instead\n",
      "\n",
      "/Users/tianyucui/anaconda/lib/python2.7/site-packages/sklearn/cluster/k_means_.py:1328: DeprecationWarning:\n",
      "\n",
      "This function is deprecated. Please call randint(0, 19 + 1) instead\n",
      "\n",
      "/Users/tianyucui/anaconda/lib/python2.7/site-packages/sklearn/cluster/k_means_.py:1328: DeprecationWarning:\n",
      "\n",
      "This function is deprecated. Please call randint(0, 19 + 1) instead\n",
      "\n",
      "/Users/tianyucui/anaconda/lib/python2.7/site-packages/sklearn/cluster/k_means_.py:1328: DeprecationWarning:\n",
      "\n",
      "This function is deprecated. Please call randint(0, 19 + 1) instead\n",
      "\n",
      "/Users/tianyucui/anaconda/lib/python2.7/site-packages/sklearn/cluster/k_means_.py:1328: DeprecationWarning:\n",
      "\n",
      "This function is deprecated. Please call randint(0, 19 + 1) instead\n",
      "\n",
      "/Users/tianyucui/anaconda/lib/python2.7/site-packages/sklearn/cluster/k_means_.py:1328: DeprecationWarning:\n",
      "\n",
      "This function is deprecated. Please call randint(0, 19 + 1) instead\n",
      "\n",
      "/Users/tianyucui/anaconda/lib/python2.7/site-packages/sklearn/cluster/k_means_.py:1328: DeprecationWarning:\n",
      "\n",
      "This function is deprecated. Please call randint(0, 19 + 1) instead\n",
      "\n",
      "/Users/tianyucui/anaconda/lib/python2.7/site-packages/sklearn/cluster/k_means_.py:1328: DeprecationWarning:\n",
      "\n",
      "This function is deprecated. Please call randint(0, 19 + 1) instead\n",
      "\n",
      "/Users/tianyucui/anaconda/lib/python2.7/site-packages/sklearn/cluster/k_means_.py:1328: DeprecationWarning:\n",
      "\n",
      "This function is deprecated. Please call randint(0, 19 + 1) instead\n",
      "\n",
      "/Users/tianyucui/anaconda/lib/python2.7/site-packages/sklearn/cluster/k_means_.py:1328: DeprecationWarning:\n",
      "\n",
      "This function is deprecated. Please call randint(0, 19 + 1) instead\n",
      "\n",
      "/Users/tianyucui/anaconda/lib/python2.7/site-packages/sklearn/cluster/k_means_.py:1328: DeprecationWarning:\n",
      "\n",
      "This function is deprecated. Please call randint(0, 19 + 1) instead\n",
      "\n",
      "/Users/tianyucui/anaconda/lib/python2.7/site-packages/sklearn/cluster/k_means_.py:1328: DeprecationWarning:\n",
      "\n",
      "This function is deprecated. Please call randint(0, 19 + 1) instead\n",
      "\n",
      "/Users/tianyucui/anaconda/lib/python2.7/site-packages/sklearn/cluster/k_means_.py:1328: DeprecationWarning:\n",
      "\n",
      "This function is deprecated. Please call randint(0, 19 + 1) instead\n",
      "\n",
      "/Users/tianyucui/anaconda/lib/python2.7/site-packages/sklearn/cluster/k_means_.py:1328: DeprecationWarning:\n",
      "\n",
      "This function is deprecated. Please call randint(0, 19 + 1) instead\n",
      "\n",
      "/Users/tianyucui/anaconda/lib/python2.7/site-packages/sklearn/cluster/k_means_.py:1328: DeprecationWarning:\n",
      "\n",
      "This function is deprecated. Please call randint(0, 19 + 1) instead\n",
      "\n"
     ]
    }
   ],
   "source": [
    "for algorithm in clustering_algorithms:\n",
    "    y_pre = algorithm.fit_predict(X_acf)\n",
    "    print y_pre"
   ]
  },
  {
   "cell_type": "code",
   "execution_count": 57,
   "metadata": {
    "collapsed": true
   },
   "outputs": [],
   "source": [
    "from sklearn import manifold"
   ]
  },
  {
   "cell_type": "code",
   "execution_count": 58,
   "metadata": {
    "collapsed": true
   },
   "outputs": [],
   "source": [
    "n_neighbors = 3\n",
    "n_components = 2\n",
    "Y = manifold.Isomap(n_neighbors, n_components).fit_transform(X_acf)"
   ]
  },
  {
   "cell_type": "code",
   "execution_count": 61,
   "metadata": {
    "collapsed": false
   },
   "outputs": [
    {
     "data": {
      "text/plain": [
       "array([[-0.50825082,  0.07907164],\n",
       "       [-0.31794995,  0.30500698],\n",
       "       [-0.31795059,  0.30500665],\n",
       "       [ 0.29661837, -0.70435985],\n",
       "       [-0.30198491, -0.28647092],\n",
       "       [-0.32228705,  0.27050235],\n",
       "       [-0.31795059,  0.30500665],\n",
       "       [-0.00433802, -0.07538758],\n",
       "       [-2.40999913, -0.4609608 ],\n",
       "       [ 2.65080219, -0.19039058],\n",
       "       [ 0.17010525,  0.17330503],\n",
       "       [-0.15056046,  0.22977394],\n",
       "       [ 0.71376286, -0.16222178],\n",
       "       [ 0.06994348,  0.18114149],\n",
       "       [ 0.00905952,  0.1528749 ],\n",
       "       [ 0.61249388, -0.01356386],\n",
       "       [ 0.07576142,  0.13771603],\n",
       "       [ 0.13702452,  0.02740626],\n",
       "       [ 0.04920883, -0.00756092],\n",
       "       [-0.13350879, -0.26589563]])"
      ]
     },
     "execution_count": 61,
     "metadata": {},
     "output_type": "execute_result"
    }
   ],
   "source": [
    "Y"
   ]
  },
  {
   "cell_type": "code",
   "execution_count": 59,
   "metadata": {
    "collapsed": false
   },
   "outputs": [],
   "source": [
    "xt = Y[:, 0]\n",
    "yt = Y[:, 1]"
   ]
  },
  {
   "cell_type": "code",
   "execution_count": 60,
   "metadata": {
    "collapsed": false
   },
   "outputs": [
    {
     "data": {
      "text/html": [
       "<iframe id=\"igraph\" scrolling=\"no\" style=\"border:none;\" seamless=\"seamless\" src=\"https://plot.ly/~tianyucui/86.embed\" height=\"525px\" width=\"100%\"></iframe>"
      ],
      "text/plain": [
       "<plotly.tools.PlotlyDisplay object>"
      ]
     },
     "execution_count": 60,
     "metadata": {},
     "output_type": "execute_result"
    }
   ],
   "source": [
    "trace = go.Scatter(\n",
    "    x = xt,\n",
    "    y = yt,\n",
    "    mode = 'markers'\n",
    ")\n",
    "\n",
    "data = [trace]\n",
    "py.iplot(data, filename='basic-scatter')"
   ]
  },
  {
   "cell_type": "code",
   "execution_count": null,
   "metadata": {
    "collapsed": true
   },
   "outputs": [],
   "source": []
  }
 ],
 "metadata": {
  "kernelspec": {
   "display_name": "Python 2",
   "language": "python",
   "name": "python2"
  },
  "language_info": {
   "codemirror_mode": {
    "name": "ipython",
    "version": 2
   },
   "file_extension": ".py",
   "mimetype": "text/x-python",
   "name": "python",
   "nbconvert_exporter": "python",
   "pygments_lexer": "ipython2",
   "version": "2.7.11"
  }
 },
 "nbformat": 4,
 "nbformat_minor": 0
}
