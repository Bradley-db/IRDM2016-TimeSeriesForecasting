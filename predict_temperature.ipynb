{
 "cells": [
  {
   "cell_type": "code",
   "execution_count": null,
   "metadata": {
    "collapsed": false
   },
   "outputs": [],
   "source": [
    "import numpy as np\n",
    "import pandas as pd\n"
   ]
  },
  {
   "cell_type": "markdown",
   "metadata": {},
   "source": [
    "# Using the average temperature of the same hour from similar days in the previous years"
   ]
  },
  {
   "cell_type": "code",
   "execution_count": null,
   "metadata": {
    "collapsed": true
   },
   "outputs": [],
   "source": [
    "temp_incomplete = pd.read_csv(\"./data/temperature.csv\")"
   ]
  },
  {
   "cell_type": "code",
   "execution_count": null,
   "metadata": {
    "collapsed": true
   },
   "outputs": [],
   "source": [
    "def process_hour_label(hour_label):\n",
    "    temp = hour_label.replace(\"h\",\"\")\n",
    "    return int(temp)"
   ]
  },
  {
   "cell_type": "code",
   "execution_count": null,
   "metadata": {
    "collapsed": true
   },
   "outputs": [],
   "source": [
    "# convert h1 to number\n",
    "hour_temp = temp_incomplete['hour']\n",
    "\n",
    "hour_temp = map(process_hour_label, hour_temp)\n",
    "\n",
    "temp_incomplete['hour'] = hour_temp"
   ]
  },
  {
   "cell_type": "code",
   "execution_count": null,
   "metadata": {
    "collapsed": false
   },
   "outputs": [],
   "source": [
    "temp_incomplete.head()"
   ]
  },
  {
   "cell_type": "code",
   "execution_count": null,
   "metadata": {
    "collapsed": false
   },
   "outputs": [],
   "source": [
    "# split incomplete data to two parts \n",
    "temp_history_complete = temp_incomplete[temp_incomplete['value'].notnull()]\n",
    "temp_history_missing = temp_incomplete[temp_incomplete['value'].isnull()]"
   ]
  },
  {
   "cell_type": "code",
   "execution_count": null,
   "metadata": {
    "collapsed": true
   },
   "outputs": [],
   "source": [
    "# predict missing temperature values by using the average temperature values in the same hour from previous years"
   ]
  },
  {
   "cell_type": "code",
   "execution_count": null,
   "metadata": {
    "collapsed": false
   },
   "outputs": [],
   "source": [
    "# predict missing value by take averge \n",
    "miss_value = []\n",
    "\n",
    "for i in xrange(temp_history_missing.shape[0]):\n",
    "    row = temp_history_missing.iloc[i]\n",
    "    \n",
    "    temp = temp_history_complete[temp_history_complete['station_id'] == row[0]]\n",
    "    temp = temp[temp['month'] == row[2]]\n",
    "    temp = temp[temp['day'] == row[3]]\n",
    "    temp = temp[temp['hour'] == row[4]]\n",
    "    \n",
    "    temp = temp['value']\n",
    "    \n",
    "    \n",
    "    temp_sum = 0\n",
    "    sum_times = 0\n",
    "    for i in xrange(temp.shape[0]):\n",
    "        temp_sum += temp.iloc[i]\n",
    "        sum_times += 1\n",
    "    \n",
    "    miss_value.append( int(temp_sum/sum_times))"
   ]
  },
  {
   "cell_type": "code",
   "execution_count": null,
   "metadata": {
    "collapsed": false
   },
   "outputs": [],
   "source": [
    "# fill missing value \n",
    "temp_history_missing['value'] = miss_value"
   ]
  },
  {
   "cell_type": "code",
   "execution_count": null,
   "metadata": {
    "collapsed": false
   },
   "outputs": [],
   "source": [
    "# combine complete temperature data and missing temperature data\n",
    "combination = pd.concat([temp_history_complete, temp_history_missing])"
   ]
  },
  {
   "cell_type": "code",
   "execution_count": null,
   "metadata": {
    "collapsed": true
   },
   "outputs": [],
   "source": [
    "# pivot-table\n",
    "combination_table = pd.pivot_table(combination, values='value', index=['year', 'month', 'day', 'hour'], columns='station_id')"
   ]
  },
  {
   "cell_type": "code",
   "execution_count": null,
   "metadata": {
    "collapsed": true
   },
   "outputs": [],
   "source": [
    "combination_table.to_csv('./data/temp_prediction.csv', index=True)"
   ]
  }
 ],
 "metadata": {
  "kernelspec": {
   "display_name": "Python 2",
   "language": "python",
   "name": "python2"
  },
  "language_info": {
   "codemirror_mode": {
    "name": "ipython",
    "version": 2
   },
   "file_extension": ".py",
   "mimetype": "text/x-python",
   "name": "python",
   "nbconvert_exporter": "python",
   "pygments_lexer": "ipython2",
   "version": "2.7.11"
  }
 },
 "nbformat": 4,
 "nbformat_minor": 0
}
